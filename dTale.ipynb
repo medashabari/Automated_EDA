{
 "cells": [
  {
   "cell_type": "code",
   "execution_count": 1,
   "id": "5419db7f",
   "metadata": {},
   "outputs": [
    {
     "name": "stdout",
     "output_type": "stream",
     "text": [
      "Collecting dtale\n",
      "  Downloading dtale-2.8.1-py2.py3-none-any.whl (12.8 MB)\n",
      "Collecting lz4\n",
      "  Downloading lz4-4.0.2-cp39-cp39-win_amd64.whl (98 kB)\n",
      "Requirement already satisfied: plotly>=5.0.0 in c:\\users\\shabari\\anaconda3\\lib\\site-packages (from dtale) (5.6.0)\n",
      "Collecting dash-daq\n",
      "  Downloading dash_daq-0.5.0.tar.gz (642 kB)\n",
      "Requirement already satisfied: itsdangerous in c:\\users\\shabari\\anaconda3\\lib\\site-packages (from dtale) (1.1.0)\n",
      "Collecting flask-ngrok\n",
      "  Downloading flask_ngrok-0.0.25-py3-none-any.whl (3.1 kB)\n",
      "Requirement already satisfied: Flask in c:\\users\\shabari\\anaconda3\\lib\\site-packages (from dtale) (1.1.2)\n",
      "Requirement already satisfied: et-xmlfile in c:\\users\\shabari\\anaconda3\\lib\\site-packages (from dtale) (1.1.0)\n",
      "Requirement already satisfied: requests in c:\\users\\shabari\\anaconda3\\lib\\site-packages (from dtale) (2.24.0)\n",
      "Requirement already satisfied: scikit-learn in c:\\users\\shabari\\anaconda3\\lib\\site-packages (from dtale) (1.0.2)\n",
      "Collecting dash-colorscales\n",
      "  Downloading dash_colorscales-0.0.4.tar.gz (62 kB)\n",
      "Requirement already satisfied: cycler in c:\\users\\shabari\\anaconda3\\lib\\site-packages (from dtale) (0.11.0)\n",
      "Requirement already satisfied: statsmodels in c:\\users\\shabari\\anaconda3\\lib\\site-packages (from dtale) (0.13.2)\n",
      "Requirement already satisfied: seaborn in c:\\users\\shabari\\anaconda3\\lib\\site-packages (from dtale) (0.11.2)\n",
      "Collecting Flask-Compress\n",
      "  Downloading Flask_Compress-1.13-py3-none-any.whl (7.9 kB)\n",
      "Collecting squarify\n",
      "  Downloading squarify-0.4.3-py3-none-any.whl (4.3 kB)\n",
      "Requirement already satisfied: openpyxl in c:\\users\\shabari\\anaconda3\\lib\\site-packages (from dtale) (3.0.9)\n",
      "Requirement already satisfied: numpy in c:\\users\\shabari\\anaconda3\\lib\\site-packages (from dtale) (1.21.5)\n",
      "Requirement already satisfied: xarray in c:\\users\\shabari\\anaconda3\\lib\\site-packages (from dtale) (0.20.1)\n",
      "Collecting strsimpy\n",
      "  Downloading strsimpy-0.2.1-py3-none-any.whl (45 kB)\n",
      "Collecting missingno<=0.4.2\n",
      "  Downloading missingno-0.4.2-py3-none-any.whl (9.7 kB)\n",
      "Collecting kaleido\n",
      "  Downloading kaleido-0.2.1-py2.py3-none-win_amd64.whl (65.9 MB)\n",
      "Requirement already satisfied: certifi in c:\\users\\shabari\\anaconda3\\lib\\site-packages (from dtale) (2022.6.15)\n",
      "Requirement already satisfied: six in c:\\users\\shabari\\anaconda3\\lib\\site-packages (from dtale) (1.15.0)\n",
      "Requirement already satisfied: xlrd in c:\\users\\shabari\\anaconda3\\lib\\site-packages (from dtale) (2.0.1)\n",
      "Collecting dash-bootstrap-components\n",
      "  Downloading dash_bootstrap_components-1.2.1-py3-none-any.whl (216 kB)\n",
      "Requirement already satisfied: scipy in c:\\users\\shabari\\anaconda3\\lib\\site-packages (from dtale) (1.7.3)\n",
      "Requirement already satisfied: matplotlib in c:\\users\\shabari\\anaconda3\\lib\\site-packages (from dtale) (3.5.1)\n",
      "Requirement already satisfied: pandas in c:\\users\\shabari\\anaconda3\\lib\\site-packages (from dtale) (1.4.2)\n",
      "Requirement already satisfied: networkx in c:\\users\\shabari\\anaconda3\\lib\\site-packages (from dtale) (2.7.1)\n",
      "Requirement already satisfied: future>=0.14.0 in c:\\users\\shabari\\anaconda3\\lib\\site-packages (from dtale) (0.18.2)\n",
      "Collecting dash>=2.0.0\n",
      "  Downloading dash-2.6.2-py3-none-any.whl (9.8 MB)\n",
      "Collecting dash-core-components==2.0.0\n",
      "  Downloading dash_core_components-2.0.0-py3-none-any.whl (3.8 kB)\n",
      "Collecting dash-html-components==2.0.0\n",
      "  Downloading dash_html_components-2.0.0-py3-none-any.whl (4.1 kB)\n",
      "Collecting dash-table==5.0.0\n",
      "  Downloading dash_table-5.0.0-py3-none-any.whl (3.9 kB)\n",
      "Requirement already satisfied: Jinja2>=2.10.1 in c:\\users\\shabari\\anaconda3\\lib\\site-packages (from Flask->dtale) (2.11.2)\n",
      "Requirement already satisfied: Werkzeug>=0.15 in c:\\users\\shabari\\anaconda3\\lib\\site-packages (from Flask->dtale) (1.0.1)\n",
      "Requirement already satisfied: click>=5.1 in c:\\users\\shabari\\anaconda3\\lib\\site-packages (from Flask->dtale) (7.1.2)\n",
      "Requirement already satisfied: MarkupSafe>=0.23 in c:\\users\\shabari\\anaconda3\\lib\\site-packages (from Jinja2>=2.10.1->Flask->dtale) (1.1.1)\n",
      "Requirement already satisfied: tenacity>=6.2.0 in c:\\users\\shabari\\anaconda3\\lib\\site-packages (from plotly>=5.0.0->dtale) (8.0.1)\n",
      "Collecting brotli\n",
      "  Downloading Brotli-1.0.9-cp39-cp39-win_amd64.whl (383 kB)\n",
      "Requirement already satisfied: pillow>=6.2.0 in c:\\users\\shabari\\anaconda3\\lib\\site-packages (from matplotlib->dtale) (9.0.1)\n",
      "Requirement already satisfied: pyparsing>=2.2.1 in c:\\users\\shabari\\anaconda3\\lib\\site-packages (from matplotlib->dtale) (3.0.4)\n",
      "Requirement already satisfied: fonttools>=4.22.0 in c:\\users\\shabari\\anaconda3\\lib\\site-packages (from matplotlib->dtale) (4.25.0)\n",
      "Requirement already satisfied: python-dateutil>=2.7 in c:\\users\\shabari\\anaconda3\\lib\\site-packages (from matplotlib->dtale) (2.8.2)\n",
      "Requirement already satisfied: packaging>=20.0 in c:\\users\\shabari\\anaconda3\\lib\\site-packages (from matplotlib->dtale) (21.3)\n",
      "Requirement already satisfied: kiwisolver>=1.0.1 in c:\\users\\shabari\\anaconda3\\lib\\site-packages (from matplotlib->dtale) (1.3.2)\n",
      "Requirement already satisfied: pytz>=2020.1 in c:\\users\\shabari\\anaconda3\\lib\\site-packages (from pandas->dtale) (2021.3)\n",
      "Requirement already satisfied: chardet<4,>=3.0.2 in c:\\users\\shabari\\anaconda3\\lib\\site-packages (from requests->dtale) (3.0.4)\n",
      "Requirement already satisfied: urllib3!=1.25.0,!=1.25.1,<1.26,>=1.21.1 in c:\\users\\shabari\\anaconda3\\lib\\site-packages (from requests->dtale) (1.25.10)\n",
      "Requirement already satisfied: idna<3,>=2.5 in c:\\users\\shabari\\anaconda3\\lib\\site-packages (from requests->dtale) (2.10)\n",
      "Requirement already satisfied: threadpoolctl>=2.0.0 in c:\\users\\shabari\\anaconda3\\lib\\site-packages (from scikit-learn->dtale) (2.2.0)\n",
      "Requirement already satisfied: joblib>=0.11 in c:\\users\\shabari\\anaconda3\\lib\\site-packages (from scikit-learn->dtale) (1.1.0)\n",
      "Requirement already satisfied: patsy>=0.5.2 in c:\\users\\shabari\\anaconda3\\lib\\site-packages (from statsmodels->dtale) (0.5.2)\n",
      "Building wheels for collected packages: dash-colorscales, dash-daq\n",
      "  Building wheel for dash-colorscales (setup.py): started\n",
      "  Building wheel for dash-colorscales (setup.py): finished with status 'done'\n",
      "  Created wheel for dash-colorscales: filename=dash_colorscales-0.0.4-py3-none-any.whl size=62582 sha256=7815c39602f842a4e1d5fee31c4f73c13fb30a4c37849b2f616a7af11a7933dc\n",
      "  Stored in directory: c:\\users\\shabari\\appdata\\local\\pip\\cache\\wheels\\ec\\32\\ec\\dc8a1aa820182edf280a5e26c76fc9493ae29e196735708de2\n",
      "  Building wheel for dash-daq (setup.py): started\n",
      "  Building wheel for dash-daq (setup.py): finished with status 'done'\n",
      "  Created wheel for dash-daq: filename=dash_daq-0.5.0-py3-none-any.whl size=669714 sha256=7c691325b7957b692bfaa5ab10aba6592acfc09d4acd9bae3b789654c83a3ac8\n",
      "  Stored in directory: c:\\users\\shabari\\appdata\\local\\pip\\cache\\wheels\\53\\73\\ea\\8a422aab5cab848d88653ed3087c1fa05553c3fbd67fb6ab75\n",
      "Successfully built dash-colorscales dash-daq\n",
      "Installing collected packages: brotli, Flask-Compress, dash-table, dash-html-components, dash-core-components, dash, strsimpy, squarify, missingno, lz4, kaleido, flask-ngrok, dash-daq, dash-colorscales, dash-bootstrap-components, dtale\n",
      "  Attempting uninstall: missingno\n",
      "    Found existing installation: missingno 0.5.1\n",
      "    Uninstalling missingno-0.5.1:\n",
      "      Successfully uninstalled missingno-0.5.1\n",
      "Successfully installed Flask-Compress-1.13 brotli-1.0.9 dash-2.6.2 dash-bootstrap-components-1.2.1 dash-colorscales-0.0.4 dash-core-components-2.0.0 dash-daq-0.5.0 dash-html-components-2.0.0 dash-table-5.0.0 dtale-2.8.1 flask-ngrok-0.0.25 kaleido-0.2.1 lz4-4.0.2 missingno-0.4.2 squarify-0.4.3 strsimpy-0.2.1\n",
      "Note: you may need to restart the kernel to use updated packages.\n"
     ]
    }
   ],
   "source": [
    "pip install dtale"
   ]
  },
  {
   "cell_type": "code",
   "execution_count": 1,
   "id": "545f5284",
   "metadata": {},
   "outputs": [],
   "source": [
    "import dtale\n",
    "import pandas as pd\n",
    "df = pd.read_csv('Dataset/data3/googleplaystore.csv')"
   ]
  },
  {
   "cell_type": "code",
   "execution_count": 2,
   "id": "a5d8a914",
   "metadata": {},
   "outputs": [
    {
     "name": "stderr",
     "output_type": "stream",
     "text": [
      "C:\\Users\\Shabari\\anaconda3\\lib\\site-packages\\dtale\\views.py:725: FutureWarning:\n",
      "\n",
      "['Type', 'Content Rating', 'Current Ver', 'Android Ver'] did not aggregate successfully. If any error is raised this will raise in a future version of pandas. Drop these columns/ops to avoid this warning.\n",
      "\n"
     ]
    },
    {
     "data": {
      "text/html": [
       "\n",
       "        <iframe\n",
       "            width=\"100%\"\n",
       "            height=\"475\"\n",
       "            src=\"http://LAPTOP-KV27HRR0:40000/dtale/iframe/1\"\n",
       "            frameborder=\"0\"\n",
       "            allowfullscreen\n",
       "            \n",
       "        ></iframe>\n",
       "        "
      ],
      "text/plain": [
       "<IPython.lib.display.IFrame at 0x262f4db9280>"
      ]
     },
     "metadata": {},
     "output_type": "display_data"
    },
    {
     "data": {
      "text/plain": []
     },
     "execution_count": 2,
     "metadata": {},
     "output_type": "execute_result"
    },
    {
     "name": "stderr",
     "output_type": "stream",
     "text": [
      "C:\\Users\\Shabari\\anaconda3\\lib\\site-packages\\dtale\\views.py:1929: FutureWarning:\n",
      "\n",
      "The default value of regex will change from True to False in a future version.\n",
      "\n"
     ]
    }
   ],
   "source": [
    "dtale.show(df)"
   ]
  },
  {
   "cell_type": "code",
   "execution_count": null,
   "id": "a025677c",
   "metadata": {},
   "outputs": [],
   "source": []
  }
 ],
 "metadata": {
  "kernelspec": {
   "display_name": "Python 3 (ipykernel)",
   "language": "python",
   "name": "python3"
  },
  "language_info": {
   "codemirror_mode": {
    "name": "ipython",
    "version": 3
   },
   "file_extension": ".py",
   "mimetype": "text/x-python",
   "name": "python",
   "nbconvert_exporter": "python",
   "pygments_lexer": "ipython3",
   "version": "3.9.12"
  }
 },
 "nbformat": 4,
 "nbformat_minor": 5
}
